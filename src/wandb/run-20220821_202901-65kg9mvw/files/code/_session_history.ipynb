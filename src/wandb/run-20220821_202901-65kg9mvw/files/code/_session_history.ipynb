{
 "cells": [
  {
   "cell_type": "code",
   "execution_count": 1,
   "id": "6ee03fa8",
   "metadata": {},
   "outputs": [],
   "source": [
    "# surpress warnings from imports\n",
    "# import warnings\n",
    "# warnings.filterwarnings(\"ignore\")\n",
    "\n",
    "import  deepxde as dde\n",
    "from    deepxde.backend import tf\n",
    "import  numpy as np\n",
    "import  matplotlib.pyplot as plt\n",
    "from    scipy.integrate import odeint\n",
    "import  wandb"
   ]
  },
  {
   "cell_type": "code",
   "execution_count": 2,
   "id": "d61000f9",
   "metadata": {},
   "outputs": [],
   "source": [
    "sweep_config = {\n",
    "  \"name\" : \"optimisation-sweep\",\n",
    "  \n",
    "  # Bayesian optimization of the parameters\n",
    "  \"method\": \"bayes\",\n",
    "  \"metric\": {\"name\": \"val_loss\", \"goal\": \"minimize\"},\n",
    "  \n",
    "  \"parameters\" : {\n",
    "    \n",
    "    \"depth\"       : {\"values\" : range(1, 11)},\n",
    "    \"height\"      : {\"values\" : range(50, 100, 5)},\n",
    "    \"num_domain\"  : {\"values\" : range(1000, 3000, 500)}    \n",
    "  }\n",
    "}\n",
    "\n",
    "# \"learning_rate\" :{\n",
    "#   \"min\": 0.0001,\n",
    "#   \"max\": 0.1\n",
    "# }\n",
    "\n",
    "sweep_id = wandb.sweep(sweep_config, project=\"PINNs\", entity=\"raihaan123\")"
   ]
  },
  {
   "cell_type": "code",
   "execution_count": 3,
   "id": "ccda5f58",
   "metadata": {},
   "outputs": [
    {
     "data": {
      "text/html": [
       "wandb version 0.13.1 is available!  To upgrade, please run:\n",
       " $ pip install wandb --upgrade"
      ],
      "text/plain": [
       "<IPython.core.display.HTML object>"
      ]
     },
     "metadata": {},
     "output_type": "display_data"
    },
    {
     "data": {
      "text/html": [
       "Tracking run with wandb version 0.12.21"
      ],
      "text/plain": [
       "<IPython.core.display.HTML object>"
      ]
     },
     "metadata": {},
     "output_type": "display_data"
    },
    {
     "data": {
      "text/html": [
       "Run data is saved locally in <code>/workspaces/UROP-Notes/src/wandb/run-20220821_202901-65kg9mvw</code>"
      ],
      "text/plain": [
       "<IPython.core.display.HTML object>"
      ]
     },
     "metadata": {},
     "output_type": "display_data"
    },
    {
     "data": {
      "text/html": [
       "Syncing run <strong><a href=\"https://wandb.ai/raihaan123/PINNs/runs/65kg9mvw\" target=\"_blank\">crisp-sweep-7</a></strong> to <a href=\"https://wandb.ai/raihaan123/PINNs\" target=\"_blank\">Weights & Biases</a> (<a href=\"https://wandb.me/run\" target=\"_blank\">docs</a>)<br/>Sweep page:  <a href=\"https://wandb.ai/raihaan123/PINNs/sweeps/jeld754s\" target=\"_blank\">https://wandb.ai/raihaan123/PINNs/sweeps/jeld754s</a>"
      ],
      "text/plain": [
       "<IPython.core.display.HTML object>"
      ]
     },
     "metadata": {},
     "output_type": "display_data"
    }
   ],
   "source": [
    "# PDE parameters\n",
    "mu = 0.5\n",
    "X0 = [1, 0]\n",
    "t_f = 20\n",
    "\n",
    "# Hyperparameters for the ADAM optimiser\n",
    "# alpha           = 0.005\n",
    "# loss_weights    = [3, 0.1, 0.1]    # [X, x1(0), x2(0)] errors\n",
    "\n",
    "# VdP oscillator\n",
    "ODE         = lambda X, t:  np.array([X[1], mu*(1-X[0]**2)*X[1]-X[0]])\n",
    "true_sol    = lambda t:     odeint(ODE, X0, t)\n",
    "\n",
    "# The PDE problem\n",
    "def VdP(t, y):\n",
    "    dy_dt = dde.grad.jacobian(y, t)\n",
    "    d2y_dt2 = dde.grad.hessian(y, t)\n",
    "    return  d2y_dt2 - mu * (1 - y ** 2) * dy_dt + y\n",
    "\n",
    "# Time domain definition\n",
    "geom = dde.geometry.TimeDomain(0, t_f)\n",
    "\n",
    "# Boundary domain function - for time domain\n",
    "def boundary_l(t, on_initial):\n",
    "    return on_initial and np.isclose(t[0], 0)\n",
    "\n",
    "# x1(0) = 0.5\n",
    "bc_func1 = lambda inputs, outputs, X: outputs - X0[0]\n",
    "\n",
    "# x2(0) = 0\n",
    "bc_func2 = lambda inputs, outputs, X: dde.grad.jacobian(outputs, inputs, i=0, j=None) - X0[1]\n",
    "\n",
    "# Defining as ICs\n",
    "ic1 = dde.icbc.OperatorBC(geom, bc_func1, boundary_l)\n",
    "ic2 = dde.icbc.OperatorBC(geom, bc_func2, boundary_l)\n",
    "\n",
    "def train():\n",
    "    with wandb.init() as run:\n",
    "        config = wandb.config\n",
    "\n",
    "        # Define the PDE problem\n",
    "        data = dde.data.TimePDE(geom, VdP, [ic1, ic2], config[\"num_domain\"], 2, num_test=50000)\n",
    "\n",
    "        # Solver architecture\n",
    "        layer_size = [1] + [config[\"height\"]] * config[\"depth\"] + [1]\n",
    "        # layer_size = [1] + [10]*2 + [2]*2 + [10]*2 + [1]          # Fun experiment! Does there exist a linear coordinate frame for the ODE?\n",
    "        activation = \"tanh\"\n",
    "        initializer = \"Glorot uniform\"\n",
    "        net = dde.nn.FNN(layer_size, activation, initializer)\n",
    "\n",
    "        def input_transform(t):\n",
    "            return tf.concat(\n",
    "                (\n",
    "                    t,\n",
    "                    # t%1,\n",
    "                    # tf.log_sigmoid(t),\n",
    "                    tf.cos(t),\n",
    "                    tf.sin(t)\n",
    "                    # tf.sin(2 * t),\n",
    "                    # tf.sin(3 * t),\n",
    "                    # tf.sin(4 * t)\n",
    "                ),\n",
    "                axis=1,\n",
    "            )\n",
    "\n",
    "        net.apply_feature_transform(input_transform)\n",
    "\n",
    "\n",
    "        # Create a Model using the PDE and neural network definitions\n",
    "        model = dde.Model(data, net)\n",
    "\n",
    "        # Compile the model!\n",
    "        model.compile(\"L-BFGS\")\n",
    "        loss_history, train_state = model.train()\n",
    "        \n",
    "        loss_test = train_state.best_loss_test\n",
    "        wandb.log({\"val_loss\": loss_test})\n",
    "\n",
    "# model.compile(\n",
    "#     \"adam\", lr=alpha, loss_weights=loss_weights     # Removed metrics=[\"l2 relative error\"]\n",
    "# )\n",
    "\n",
    "# losshistory, train_state = model.train(iterations=20000)\n",
    "# dde.saveplot(losshistory, train_state, issave=True, isplot=True)\n",
    "\n",
    "count = 100 # number of runs to execute\n",
    "wandb.agent(sweep_id, function=train, count=count)"
   ]
  }
 ],
 "metadata": {
  "kernelspec": {
   "display_name": "Python 3",
   "language": "python",
   "name": "python3"
  },
  "language_info": {
   "codemirror_mode": {
    "name": "ipython",
    "version": 3
   },
   "file_extension": ".py",
   "mimetype": "text/x-python",
   "name": "python",
   "nbconvert_exporter": "python",
   "pygments_lexer": "ipython3",
   "version": "3.10.4"
  }
 },
 "nbformat": 4,
 "nbformat_minor": 5
}
