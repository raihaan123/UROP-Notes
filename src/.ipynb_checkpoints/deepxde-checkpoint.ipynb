{
 "cells": [
  {
   "cell_type": "markdown",
   "metadata": {},
   "source": [
    "# Solving the Van der Pol oscillator with the DeepXDE Framework\n",
    "Raihaan Usman, UROP Student"
   ]
  },
  {
   "cell_type": "markdown",
   "metadata": {},
   "source": [
    "DeepXDE is a data-driven framework developed by researchers at Brown University."
   ]
  },
  {
   "cell_type": "code",
   "execution_count": 1,
   "metadata": {},
   "outputs": [
    {
     "name": "stderr",
     "output_type": "stream",
     "text": [
      "Using backend: tensorflow.compat.v1\n",
      "\n",
      "2022-08-21 22:21:23.448689: W tensorflow/stream_executor/platform/default/dso_loader.cc:64] Could not load dynamic library 'libcudart.so.11.0'; dlerror: libcudart.so.11.0: cannot open shared object file: No such file or directory\n",
      "2022-08-21 22:21:23.448787: I tensorflow/stream_executor/cuda/cudart_stub.cc:29] Ignore above cudart dlerror if you do not have a GPU set up on your machine.\n"
     ]
    },
    {
     "name": "stdout",
     "output_type": "stream",
     "text": [
      "WARNING:tensorflow:From /opt/python/3.10.4/lib/python3.10/site-packages/tensorflow/python/compat/v2_compat.py:107: disable_resource_variables (from tensorflow.python.ops.variable_scope) is deprecated and will be removed in a future version.\n",
      "Instructions for updating:\n",
      "non-resource variables are not supported in the long term\n"
     ]
    },
    {
     "name": "stderr",
     "output_type": "stream",
     "text": [
      "2022-08-21 22:21:35.442440: W tensorflow/stream_executor/platform/default/dso_loader.cc:64] Could not load dynamic library 'libcuda.so.1'; dlerror: libcuda.so.1: cannot open shared object file: No such file or directory\n",
      "2022-08-21 22:21:35.442486: W tensorflow/stream_executor/cuda/cuda_driver.cc:269] failed call to cuInit: UNKNOWN ERROR (303)\n",
      "2022-08-21 22:21:35.442514: I tensorflow/stream_executor/cuda/cuda_diagnostics.cc:156] kernel driver does not appear to be running on this host (codespaces-baf76a): /proc/driver/nvidia/version does not exist\n"
     ]
    },
    {
     "name": "stdout",
     "output_type": "stream",
     "text": [
      "WARNING:tensorflow:From /opt/python/3.10.4/lib/python3.10/site-packages/deepxde/nn/initializers.py:118: The name tf.keras.initializers.he_normal is deprecated. Please use tf.compat.v1.keras.initializers.he_normal instead.\n",
      "\n"
     ]
    }
   ],
   "source": [
    "import  deepxde as dde\n",
    "from    deepxde.backend import tf\n",
    "import  numpy as np\n",
    "import  matplotlib.pyplot as plt\n",
    "from    scipy.integrate import odeint\n",
    "import  wandb"
   ]
  },
  {
   "cell_type": "markdown",
   "metadata": {},
   "source": [
    "Weights and Biases is an ML-ops framework that runs experiments on the training of deep neural networks, enabling insights into the effect of hyperparameters on the performance of a model."
   ]
  },
  {
   "cell_type": "code",
   "execution_count": 2,
   "metadata": {},
   "outputs": [
    {
     "name": "stderr",
     "output_type": "stream",
     "text": [
      "Failed to detect the name of this notebook, you can set it manually with the WANDB_NOTEBOOK_NAME environment variable to enable code saving.\n"
     ]
    },
    {
     "name": "stdout",
     "output_type": "stream",
     "text": [
      "Create sweep with ID: 2kvvp7yd\n",
      "Sweep URL: https://wandb.ai/raihaan123/PINNs/sweeps/2kvvp7yd\n"
     ]
    }
   ],
   "source": [
    "sweep_config = {\n",
    "  \"name\" : \"optimisation-sweep\",\n",
    "  \n",
    "  # Bayesian optimization of the parameters\n",
    "  \"method\": \"bayes\",\n",
    "  \"metric\": {\"name\": \"val_loss\", \"goal\": \"minimize\"},\n",
    "  \n",
    "  \"parameters\" : {\n",
    "    \n",
    "    \"depth\"       : {\"values\" : np.arange(1, 101).tolist()},\n",
    "    \"height\"      : {\"values\" : np.arange(1, 101).tolist()},\n",
    "    \"num_domain\"  : {\"values\" : np.arange(500, 3000, 100).tolist()}    \n",
    "  }\n",
    "}\n",
    "\n",
    "# \"learning_rate\" :{\n",
    "#   \"min\": 0.0001,\n",
    "#   \"max\": 0.1\n",
    "# }\n",
    "\n",
    "sweep_id = wandb.sweep(sweep_config, project=\"PINNs\", entity=\"raihaan123\")"
   ]
  },
  {
   "cell_type": "markdown",
   "metadata": {},
   "source": [
    "### Van der Pol Solver"
   ]
  },
  {
   "cell_type": "code",
   "execution_count": 3,
   "metadata": {},
   "outputs": [
    {
     "name": "stderr",
     "output_type": "stream",
     "text": [
      "\u001b[34m\u001b[1mwandb\u001b[0m: Agent Starting Run: kek1evfy with config:\n",
      "\u001b[34m\u001b[1mwandb\u001b[0m: \tdepth: 20\n",
      "\u001b[34m\u001b[1mwandb\u001b[0m: \theight: 41\n",
      "\u001b[34m\u001b[1mwandb\u001b[0m: \tnum_domain: 1900\n",
      "Failed to detect the name of this notebook, you can set it manually with the WANDB_NOTEBOOK_NAME environment variable to enable code saving.\n",
      "\u001b[34m\u001b[1mwandb\u001b[0m: Currently logged in as: \u001b[33mraihaan123\u001b[0m. Use \u001b[1m`wandb login --relogin`\u001b[0m to force relogin\n"
     ]
    },
    {
     "data": {
      "text/html": [
       "wandb version 0.13.1 is available!  To upgrade, please run:\n",
       " $ pip install wandb --upgrade"
      ],
      "text/plain": [
       "<IPython.core.display.HTML object>"
      ]
     },
     "metadata": {},
     "output_type": "display_data"
    },
    {
     "data": {
      "text/html": [
       "Tracking run with wandb version 0.12.21"
      ],
      "text/plain": [
       "<IPython.core.display.HTML object>"
      ]
     },
     "metadata": {},
     "output_type": "display_data"
    },
    {
     "data": {
      "text/html": [
       "Run data is saved locally in <code>/workspaces/UROP-Notes/src/wandb/run-20220821_222142-kek1evfy</code>"
      ],
      "text/plain": [
       "<IPython.core.display.HTML object>"
      ]
     },
     "metadata": {},
     "output_type": "display_data"
    },
    {
     "data": {
      "text/html": [
       "Syncing run <strong><a href=\"https://wandb.ai/raihaan123/PINNs/runs/kek1evfy\" target=\"_blank\">restful-sweep-1</a></strong> to <a href=\"https://wandb.ai/raihaan123/PINNs\" target=\"_blank\">Weights & Biases</a> (<a href=\"https://wandb.me/run\" target=\"_blank\">docs</a>)<br/>Sweep page:  <a href=\"https://wandb.ai/raihaan123/PINNs/sweeps/2kvvp7yd\" target=\"_blank\">https://wandb.ai/raihaan123/PINNs/sweeps/2kvvp7yd</a>"
      ],
      "text/plain": [
       "<IPython.core.display.HTML object>"
      ]
     },
     "metadata": {},
     "output_type": "display_data"
    },
    {
     "name": "stderr",
     "output_type": "stream",
     "text": [
      "/opt/python/3.10.4/lib/python3.10/site-packages/skopt/sampler/sobol.py:246: UserWarning: The balance properties of Sobol' points require n to be a power of 2. 0 points have been previously generated, then: n=0+1902=1902. \n",
      "  warnings.warn(\"The balance properties of Sobol' points require \"\n",
      "/opt/python/3.10.4/lib/python3.10/site-packages/deepxde/nn/tensorflow_compat_v1/fnn.py:103: UserWarning: `tf.layers.dense` is deprecated and will be removed in a future version. Please use `tf.keras.layers.Dense` instead.\n",
      "  return tf.layers.dense(\n"
     ]
    },
    {
     "name": "stdout",
     "output_type": "stream",
     "text": [
      "Compiling model...\n",
      "Building feed-forward neural network...\n",
      "'build' took 0.348204 s\n",
      "\n"
     ]
    },
    {
     "name": "stderr",
     "output_type": "stream",
     "text": [
      "2022-08-21 22:21:44.254673: I tensorflow/core/platform/cpu_feature_guard.cc:193] This TensorFlow binary is optimized with oneAPI Deep Neural Network Library (oneDNN) to use the following CPU instructions in performance-critical operations:  AVX2 AVX512F FMA\n",
      "To enable them in other operations, rebuild TensorFlow with the appropriate compiler flags.\n"
     ]
    },
    {
     "name": "stdout",
     "output_type": "stream",
     "text": [
      "'compile' took 2.093625 s\n",
      "\n",
      "Initializing variables...\n",
      "Training model...\n",
      "\n"
     ]
    },
    {
     "name": "stderr",
     "output_type": "stream",
     "text": [
      "2022-08-21 22:21:46.034749: I tensorflow/compiler/mlir/mlir_graph_optimization_pass.cc:354] MLIR V1 optimization pass is not enabled\n"
     ]
    },
    {
     "name": "stdout",
     "output_type": "stream",
     "text": [
      "Step      Train loss                        Test loss                         Test metric\n",
      "0         [3.93e-02, 1.15e+00, 1.16e-01]    [3.93e-02, 1.15e+00, 1.16e-01]    []  \n",
      "INFO:tensorflow:Optimization terminated with:\n",
      "  Message: CONVERGENCE: REL_REDUCTION_OF_F_<=_FACTR*EPSMCH\n",
      "  Objective function value: 0.000001\n",
      "  Number of iterations: 438\n",
      "  Number of functions evaluations: 504\n",
      "504       [5.82e-07, 1.24e-09, 2.65e-09]    [5.71e-07, 1.24e-09, 2.65e-09]    []  \n",
      "\n",
      "Best model at step 504:\n",
      "  train loss: 5.86e-07\n",
      "  test loss: 5.75e-07\n",
      "  test metric: []\n",
      "\n",
      "'train' took 57.168248 s\n",
      "\n"
     ]
    },
    {
     "data": {
      "text/html": [
       "Waiting for W&B process to finish... <strong style=\"color:green\">(success).</strong>"
      ],
      "text/plain": [
       "<IPython.core.display.HTML object>"
      ]
     },
     "metadata": {},
     "output_type": "display_data"
    },
    {
     "data": {
      "text/html": [
       "<style>\n",
       "    table.wandb td:nth-child(1) { padding: 0 10px; text-align: left ; width: auto;} td:nth-child(2) {text-align: left ; width: 100%}\n",
       "    .wandb-row { display: flex; flex-direction: row; flex-wrap: wrap; justify-content: flex-start; width: 100% }\n",
       "    .wandb-col { display: flex; flex-direction: column; flex-basis: 100%; flex: 1; padding: 10px; }\n",
       "    </style>\n",
       "<div class=\"wandb-row\"><div class=\"wandb-col\"><h3>Run history:</h3><br/><table class=\"wandb\"><tr><td>val_loss</td><td>▁</td></tr></table><br/></div><div class=\"wandb-col\"><h3>Run summary:</h3><br/><table class=\"wandb\"><tr><td>val_loss</td><td>0.0</td></tr></table><br/></div></div>"
      ],
      "text/plain": [
       "<IPython.core.display.HTML object>"
      ]
     },
     "metadata": {},
     "output_type": "display_data"
    },
    {
     "data": {
      "text/html": [
       "Synced <strong style=\"color:#cdcd00\">restful-sweep-1</strong>: <a href=\"https://wandb.ai/raihaan123/PINNs/runs/kek1evfy\" target=\"_blank\">https://wandb.ai/raihaan123/PINNs/runs/kek1evfy</a><br/>Synced 6 W&B file(s), 0 media file(s), 0 artifact file(s) and 1 other file(s)"
      ],
      "text/plain": [
       "<IPython.core.display.HTML object>"
      ]
     },
     "metadata": {},
     "output_type": "display_data"
    },
    {
     "data": {
      "text/html": [
       "Find logs at: <code>./wandb/run-20220821_222142-kek1evfy/logs</code>"
      ],
      "text/plain": [
       "<IPython.core.display.HTML object>"
      ]
     },
     "metadata": {},
     "output_type": "display_data"
    },
    {
     "name": "stderr",
     "output_type": "stream",
     "text": [
      "\u001b[34m\u001b[1mwandb\u001b[0m: Agent Starting Run: h0gonfyd with config:\n",
      "\u001b[34m\u001b[1mwandb\u001b[0m: \tdepth: 41\n",
      "\u001b[34m\u001b[1mwandb\u001b[0m: \theight: 36\n",
      "\u001b[34m\u001b[1mwandb\u001b[0m: \tnum_domain: 500\n",
      "Failed to detect the name of this notebook, you can set it manually with the WANDB_NOTEBOOK_NAME environment variable to enable code saving.\n"
     ]
    },
    {
     "data": {
      "text/html": [
       "wandb version 0.13.1 is available!  To upgrade, please run:\n",
       " $ pip install wandb --upgrade"
      ],
      "text/plain": [
       "<IPython.core.display.HTML object>"
      ]
     },
     "metadata": {},
     "output_type": "display_data"
    },
    {
     "data": {
      "text/html": [
       "Tracking run with wandb version 0.12.21"
      ],
      "text/plain": [
       "<IPython.core.display.HTML object>"
      ]
     },
     "metadata": {},
     "output_type": "display_data"
    },
    {
     "data": {
      "text/html": [
       "Run data is saved locally in <code>/workspaces/UROP-Notes/src/wandb/run-20220821_222249-h0gonfyd</code>"
      ],
      "text/plain": [
       "<IPython.core.display.HTML object>"
      ]
     },
     "metadata": {},
     "output_type": "display_data"
    },
    {
     "data": {
      "text/html": [
       "Syncing run <strong><a href=\"https://wandb.ai/raihaan123/PINNs/runs/h0gonfyd\" target=\"_blank\">woven-sweep-2</a></strong> to <a href=\"https://wandb.ai/raihaan123/PINNs\" target=\"_blank\">Weights & Biases</a> (<a href=\"https://wandb.me/run\" target=\"_blank\">docs</a>)<br/>Sweep page:  <a href=\"https://wandb.ai/raihaan123/PINNs/sweeps/2kvvp7yd\" target=\"_blank\">https://wandb.ai/raihaan123/PINNs/sweeps/2kvvp7yd</a>"
      ],
      "text/plain": [
       "<IPython.core.display.HTML object>"
      ]
     },
     "metadata": {},
     "output_type": "display_data"
    },
    {
     "name": "stderr",
     "output_type": "stream",
     "text": [
      "/opt/python/3.10.4/lib/python3.10/site-packages/skopt/sampler/sobol.py:246: UserWarning: The balance properties of Sobol' points require n to be a power of 2. 0 points have been previously generated, then: n=0+502=502. \n",
      "  warnings.warn(\"The balance properties of Sobol' points require \"\n",
      "/opt/python/3.10.4/lib/python3.10/site-packages/deepxde/nn/tensorflow_compat_v1/fnn.py:103: UserWarning: `tf.layers.dense` is deprecated and will be removed in a future version. Please use `tf.keras.layers.Dense` instead.\n",
      "  return tf.layers.dense(\n"
     ]
    },
    {
     "name": "stdout",
     "output_type": "stream",
     "text": [
      "Compiling model...\n",
      "Building feed-forward neural network...\n",
      "'build' took 0.617367 s\n",
      "\n",
      "'compile' took 2.996330 s\n",
      "\n",
      "Initializing variables...\n",
      "Training model...\n",
      "\n",
      "Step      Train loss                        Test loss                         Test metric\n",
      "0         [1.56e-02, 1.04e+00, 1.15e-01]    [1.54e-02, 1.04e+00, 1.15e-01]    []  \n",
      "INFO:tensorflow:Optimization terminated with:\n",
      "  Message: CONVERGENCE: REL_REDUCTION_OF_F_<=_FACTR*EPSMCH\n",
      "  Objective function value: 0.000001\n",
      "  Number of iterations: 654\n",
      "  Number of functions evaluations: 737\n",
      "737       [8.77e-07, 6.27e-12, 6.42e-12]    [8.65e-07, 6.27e-12, 6.42e-12]    []  \n",
      "\n",
      "Best model at step 737:\n",
      "  train loss: 8.77e-07\n",
      "  test loss: 8.65e-07\n",
      "  test metric: []\n",
      "\n",
      "'train' took 80.359376 s\n",
      "\n"
     ]
    },
    {
     "data": {
      "text/html": [
       "Waiting for W&B process to finish... <strong style=\"color:green\">(success).</strong>"
      ],
      "text/plain": [
       "<IPython.core.display.HTML object>"
      ]
     },
     "metadata": {},
     "output_type": "display_data"
    },
    {
     "data": {
      "text/html": [
       "<style>\n",
       "    table.wandb td:nth-child(1) { padding: 0 10px; text-align: left ; width: auto;} td:nth-child(2) {text-align: left ; width: 100%}\n",
       "    .wandb-row { display: flex; flex-direction: row; flex-wrap: wrap; justify-content: flex-start; width: 100% }\n",
       "    .wandb-col { display: flex; flex-direction: column; flex-basis: 100%; flex: 1; padding: 10px; }\n",
       "    </style>\n",
       "<div class=\"wandb-row\"><div class=\"wandb-col\"><h3>Run history:</h3><br/><table class=\"wandb\"><tr><td>val_loss</td><td>▁</td></tr></table><br/></div><div class=\"wandb-col\"><h3>Run summary:</h3><br/><table class=\"wandb\"><tr><td>val_loss</td><td>0.0</td></tr></table><br/></div></div>"
      ],
      "text/plain": [
       "<IPython.core.display.HTML object>"
      ]
     },
     "metadata": {},
     "output_type": "display_data"
    },
    {
     "data": {
      "text/html": [
       "Synced <strong style=\"color:#cdcd00\">woven-sweep-2</strong>: <a href=\"https://wandb.ai/raihaan123/PINNs/runs/h0gonfyd\" target=\"_blank\">https://wandb.ai/raihaan123/PINNs/runs/h0gonfyd</a><br/>Synced 6 W&B file(s), 0 media file(s), 0 artifact file(s) and 1 other file(s)"
      ],
      "text/plain": [
       "<IPython.core.display.HTML object>"
      ]
     },
     "metadata": {},
     "output_type": "display_data"
    },
    {
     "data": {
      "text/html": [
       "Find logs at: <code>./wandb/run-20220821_222249-h0gonfyd/logs</code>"
      ],
      "text/plain": [
       "<IPython.core.display.HTML object>"
      ]
     },
     "metadata": {},
     "output_type": "display_data"
    },
    {
     "name": "stderr",
     "output_type": "stream",
     "text": [
      "\u001b[34m\u001b[1mwandb\u001b[0m: Agent Starting Run: qg44fpuh with config:\n",
      "\u001b[34m\u001b[1mwandb\u001b[0m: \tdepth: 7\n",
      "\u001b[34m\u001b[1mwandb\u001b[0m: \theight: 97\n",
      "\u001b[34m\u001b[1mwandb\u001b[0m: \tnum_domain: 2800\n",
      "Failed to detect the name of this notebook, you can set it manually with the WANDB_NOTEBOOK_NAME environment variable to enable code saving.\n"
     ]
    },
    {
     "data": {
      "text/html": [
       "wandb version 0.13.1 is available!  To upgrade, please run:\n",
       " $ pip install wandb --upgrade"
      ],
      "text/plain": [
       "<IPython.core.display.HTML object>"
      ]
     },
     "metadata": {},
     "output_type": "display_data"
    },
    {
     "data": {
      "text/html": [
       "Tracking run with wandb version 0.12.21"
      ],
      "text/plain": [
       "<IPython.core.display.HTML object>"
      ]
     },
     "metadata": {},
     "output_type": "display_data"
    },
    {
     "data": {
      "text/html": [
       "Run data is saved locally in <code>/workspaces/UROP-Notes/src/wandb/run-20220821_222423-qg44fpuh</code>"
      ],
      "text/plain": [
       "<IPython.core.display.HTML object>"
      ]
     },
     "metadata": {},
     "output_type": "display_data"
    },
    {
     "data": {
      "text/html": [
       "Syncing run <strong><a href=\"https://wandb.ai/raihaan123/PINNs/runs/qg44fpuh\" target=\"_blank\">silvery-sweep-3</a></strong> to <a href=\"https://wandb.ai/raihaan123/PINNs\" target=\"_blank\">Weights & Biases</a> (<a href=\"https://wandb.me/run\" target=\"_blank\">docs</a>)<br/>Sweep page:  <a href=\"https://wandb.ai/raihaan123/PINNs/sweeps/2kvvp7yd\" target=\"_blank\">https://wandb.ai/raihaan123/PINNs/sweeps/2kvvp7yd</a>"
      ],
      "text/plain": [
       "<IPython.core.display.HTML object>"
      ]
     },
     "metadata": {},
     "output_type": "display_data"
    },
    {
     "name": "stdout",
     "output_type": "stream",
     "text": [
      "Compiling model...\n",
      "Building feed-forward neural network...\n",
      "'build' took 0.132238 s\n",
      "\n"
     ]
    },
    {
     "name": "stderr",
     "output_type": "stream",
     "text": [
      "/opt/python/3.10.4/lib/python3.10/site-packages/skopt/sampler/sobol.py:246: UserWarning: The balance properties of Sobol' points require n to be a power of 2. 0 points have been previously generated, then: n=0+2802=2802. \n",
      "  warnings.warn(\"The balance properties of Sobol' points require \"\n",
      "/opt/python/3.10.4/lib/python3.10/site-packages/deepxde/nn/tensorflow_compat_v1/fnn.py:103: UserWarning: `tf.layers.dense` is deprecated and will be removed in a future version. Please use `tf.keras.layers.Dense` instead.\n",
      "  return tf.layers.dense(\n"
     ]
    },
    {
     "name": "stdout",
     "output_type": "stream",
     "text": [
      "'compile' took 0.903539 s\n",
      "\n",
      "Initializing variables...\n",
      "Training model...\n",
      "\n",
      "Step      Train loss                        Test loss                         Test metric\n",
      "0         [1.70e-02, 1.43e+00, 4.27e-03]    [1.70e-02, 1.43e+00, 4.27e-03]    []  \n",
      "INFO:tensorflow:Optimization terminated with:\n",
      "  Message: CONVERGENCE: REL_REDUCTION_OF_F_<=_FACTR*EPSMCH\n",
      "  Objective function value: 0.000000\n",
      "  Number of iterations: 520\n",
      "  Number of functions evaluations: 581\n",
      "581       [8.26e-08, 1.42e-14, 1.38e-14]    [8.25e-08, 1.42e-14, 1.38e-14]    []  \n",
      "\n",
      "Best model at step 581:\n",
      "  train loss: 8.26e-08\n",
      "  test loss: 8.25e-08\n",
      "  test metric: []\n",
      "\n",
      "'train' took 95.435113 s\n",
      "\n"
     ]
    },
    {
     "data": {
      "text/html": [
       "Waiting for W&B process to finish... <strong style=\"color:green\">(success).</strong>"
      ],
      "text/plain": [
       "<IPython.core.display.HTML object>"
      ]
     },
     "metadata": {},
     "output_type": "display_data"
    },
    {
     "data": {
      "text/html": [
       "<style>\n",
       "    table.wandb td:nth-child(1) { padding: 0 10px; text-align: left ; width: auto;} td:nth-child(2) {text-align: left ; width: 100%}\n",
       "    .wandb-row { display: flex; flex-direction: row; flex-wrap: wrap; justify-content: flex-start; width: 100% }\n",
       "    .wandb-col { display: flex; flex-direction: column; flex-basis: 100%; flex: 1; padding: 10px; }\n",
       "    </style>\n",
       "<div class=\"wandb-row\"><div class=\"wandb-col\"><h3>Run history:</h3><br/><table class=\"wandb\"><tr><td>val_loss</td><td>▁</td></tr></table><br/></div><div class=\"wandb-col\"><h3>Run summary:</h3><br/><table class=\"wandb\"><tr><td>val_loss</td><td>0.0</td></tr></table><br/></div></div>"
      ],
      "text/plain": [
       "<IPython.core.display.HTML object>"
      ]
     },
     "metadata": {},
     "output_type": "display_data"
    },
    {
     "data": {
      "text/html": [
       "Synced <strong style=\"color:#cdcd00\">silvery-sweep-3</strong>: <a href=\"https://wandb.ai/raihaan123/PINNs/runs/qg44fpuh\" target=\"_blank\">https://wandb.ai/raihaan123/PINNs/runs/qg44fpuh</a><br/>Synced 6 W&B file(s), 0 media file(s), 0 artifact file(s) and 1 other file(s)"
      ],
      "text/plain": [
       "<IPython.core.display.HTML object>"
      ]
     },
     "metadata": {},
     "output_type": "display_data"
    },
    {
     "data": {
      "text/html": [
       "Find logs at: <code>./wandb/run-20220821_222423-qg44fpuh/logs</code>"
      ],
      "text/plain": [
       "<IPython.core.display.HTML object>"
      ]
     },
     "metadata": {},
     "output_type": "display_data"
    },
    {
     "name": "stderr",
     "output_type": "stream",
     "text": [
      "\u001b[34m\u001b[1mwandb\u001b[0m: Agent Starting Run: dqulhsbt with config:\n",
      "\u001b[34m\u001b[1mwandb\u001b[0m: \tdepth: 91\n",
      "\u001b[34m\u001b[1mwandb\u001b[0m: \theight: 96\n",
      "\u001b[34m\u001b[1mwandb\u001b[0m: \tnum_domain: 2900\n",
      "Failed to detect the name of this notebook, you can set it manually with the WANDB_NOTEBOOK_NAME environment variable to enable code saving.\n"
     ]
    },
    {
     "data": {
      "text/html": [
       "wandb version 0.13.1 is available!  To upgrade, please run:\n",
       " $ pip install wandb --upgrade"
      ],
      "text/plain": [
       "<IPython.core.display.HTML object>"
      ]
     },
     "metadata": {},
     "output_type": "display_data"
    },
    {
     "data": {
      "text/html": [
       "Tracking run with wandb version 0.12.21"
      ],
      "text/plain": [
       "<IPython.core.display.HTML object>"
      ]
     },
     "metadata": {},
     "output_type": "display_data"
    },
    {
     "data": {
      "text/html": [
       "Run data is saved locally in <code>/workspaces/UROP-Notes/src/wandb/run-20220821_222607-dqulhsbt</code>"
      ],
      "text/plain": [
       "<IPython.core.display.HTML object>"
      ]
     },
     "metadata": {},
     "output_type": "display_data"
    },
    {
     "data": {
      "text/html": [
       "Syncing run <strong><a href=\"https://wandb.ai/raihaan123/PINNs/runs/dqulhsbt\" target=\"_blank\">stilted-sweep-4</a></strong> to <a href=\"https://wandb.ai/raihaan123/PINNs\" target=\"_blank\">Weights & Biases</a> (<a href=\"https://wandb.me/run\" target=\"_blank\">docs</a>)<br/>Sweep page:  <a href=\"https://wandb.ai/raihaan123/PINNs/sweeps/2kvvp7yd\" target=\"_blank\">https://wandb.ai/raihaan123/PINNs/sweeps/2kvvp7yd</a>"
      ],
      "text/plain": [
       "<IPython.core.display.HTML object>"
      ]
     },
     "metadata": {},
     "output_type": "display_data"
    },
    {
     "name": "stderr",
     "output_type": "stream",
     "text": [
      "/opt/python/3.10.4/lib/python3.10/site-packages/skopt/sampler/sobol.py:246: UserWarning: The balance properties of Sobol' points require n to be a power of 2. 0 points have been previously generated, then: n=0+2902=2902. \n",
      "  warnings.warn(\"The balance properties of Sobol' points require \"\n",
      "/opt/python/3.10.4/lib/python3.10/site-packages/deepxde/nn/tensorflow_compat_v1/fnn.py:103: UserWarning: `tf.layers.dense` is deprecated and will be removed in a future version. Please use `tf.keras.layers.Dense` instead.\n",
      "  return tf.layers.dense(\n"
     ]
    },
    {
     "name": "stdout",
     "output_type": "stream",
     "text": [
      "Compiling model...\n",
      "Building feed-forward neural network...\n",
      "'build' took 1.355618 s\n",
      "\n",
      "'compile' took 6.417763 s\n",
      "\n",
      "Initializing variables...\n",
      "Training model...\n",
      "\n"
     ]
    },
    {
     "ename": "",
     "evalue": "",
     "output_type": "error",
     "traceback": [
      "\u001b[1;31mCanceled future for execute_request message before replies were done"
     ]
    },
    {
     "ename": "",
     "evalue": "",
     "output_type": "error",
     "traceback": [
      "The Kernel crashed while executing code in the the current cell or a previous cell. Please review the code in the cell(s) to identify a possible cause of the failure. Click <a href='https://aka.ms/vscodeJupyterKernelCrash'>here</a> for more info. View Jupyter <a href='command:jupyter.viewOutput'>log</a> for further details."
     ]
    }
   ],
   "source": [
    "# PDE parameters\n",
    "mu = 0\n",
    "X0 = [1, 0]\n",
    "t_f = 20\n",
    "\n",
    "# Hyperparameters for the ADAM optimiser\n",
    "# alpha           = 0.005\n",
    "# loss_weights    = [3, 0.1, 0.1]    # [X, x1(0), x2(0)] errors\n",
    "\n",
    "# VdP oscillator\n",
    "ODE         = lambda X, t:  np.array([X[1], mu*(1-X[0]**2)*X[1]-X[0]])\n",
    "true_sol    = lambda t:     odeint(ODE, X0, t)\n",
    "\n",
    "# The PDE problem\n",
    "def VdP(t, y):\n",
    "    dy_dt = dde.grad.jacobian(y, t)\n",
    "    d2y_dt2 = dde.grad.hessian(y, t)\n",
    "    return  d2y_dt2 - mu * (1 - y ** 2) * dy_dt + y\n",
    "\n",
    "# Time domain definition\n",
    "geom = dde.geometry.TimeDomain(0, t_f)\n",
    "\n",
    "# Boundary domain function - for time domain\n",
    "def boundary_l(t, on_initial):\n",
    "    return on_initial and np.isclose(t[0], 0)\n",
    "\n",
    "# x1(0) = 0.5\n",
    "bc_func1 = lambda inputs, outputs, X: outputs - X0[0]\n",
    "\n",
    "# x2(0) = 0\n",
    "bc_func2 = lambda inputs, outputs, X: dde.grad.jacobian(outputs, inputs, i=0, j=None) - X0[1]\n",
    "\n",
    "# Defining as ICs\n",
    "ic1 = dde.icbc.OperatorBC(geom, bc_func1, boundary_l)\n",
    "ic2 = dde.icbc.OperatorBC(geom, bc_func2, boundary_l)\n",
    "\n",
    "def train():\n",
    "    with wandb.init() as run:\n",
    "        config = wandb.config\n",
    "\n",
    "        # Define the PDE problem\n",
    "        data = dde.data.TimePDE(geom, VdP, [ic1, ic2], config[\"num_domain\"], 2, num_test=50000)\n",
    "\n",
    "        # Solver architecture\n",
    "        layer_size = [1] + [config[\"height\"]] * config[\"depth\"] + [1]\n",
    "        # layer_size = [1] + [10]*2 + [2]*2 + [10]*2 + [1]          # Fun experiment! Does there exist a linear coordinate frame for the ODE?\n",
    "        activation = \"tanh\"\n",
    "        initializer = \"Glorot uniform\"\n",
    "        net = dde.nn.FNN(layer_size, activation, initializer)\n",
    "\n",
    "        def input_transform(t):\n",
    "            return tf.concat(\n",
    "                (\n",
    "                    t,\n",
    "                    # t%1,\n",
    "                    # tf.log_sigmoid(t),\n",
    "                    tf.cos(t),\n",
    "                    tf.sin(t)\n",
    "                    # tf.sin(2 * t),\n",
    "                    # tf.sin(3 * t),\n",
    "                    # tf.sin(4 * t)\n",
    "                ),\n",
    "                axis=1,\n",
    "            )\n",
    "\n",
    "        net.apply_feature_transform(input_transform)\n",
    "\n",
    "\n",
    "        # Create a Model using the PDE and neural network definitions\n",
    "        model = dde.Model(data, net)\n",
    "\n",
    "        # Compile the model!\n",
    "        model.compile(\"L-BFGS\")\n",
    "        loss_history, train_state = model.train()\n",
    "        \n",
    "        loss_test = train_state.loss_test[0]\n",
    "        wandb.log({\"val_loss\": loss_test})\n",
    "\n",
    "# model.compile(\n",
    "#     \"adam\", lr=alpha, loss_weights=loss_weights     # Removed metrics=[\"l2 relative error\"]\n",
    "# )\n",
    "\n",
    "# losshistory, train_state = model.train(iterations=20000)\n",
    "# dde.saveplot(losshistory, train_state, issave=True, isplot=True)\n",
    "\n",
    "count = 100 # number of runs to execute\n",
    "wandb.agent(sweep_id, function=train, count=count)"
   ]
  },
  {
   "cell_type": "code",
   "execution_count": null,
   "metadata": {},
   "outputs": [],
   "source": [
    "# t = np.linspace(0, t_f+100, 5000)\n",
    "# sol = true_sol(t)\n",
    "# x1, x2 = np.hsplit(true_sol(t), 2)\n",
    "\n",
    "# # Plot the solution\n",
    "# plt.figure(figsize=(30, 5))\n",
    "# plt.plot(t, x1, color=\"black\", label=\"x1_true\")\n",
    "\n",
    "# t = t.reshape(5000, 1)\n",
    "# x1_pred = model.predict(t)\n",
    "\n",
    "# plt.plot(t, x1_pred, color=\"red\", linestyle=\"dashed\", label=\"x1_pred\")\n",
    "# plt.legend()\n",
    "# plt.show()"
   ]
  }
 ],
 "metadata": {
  "kernelspec": {
   "display_name": "Python 3.10.4 64-bit",
   "language": "python",
   "name": "python3"
  },
  "language_info": {
   "codemirror_mode": {
    "name": "ipython",
    "version": 3
   },
   "file_extension": ".py",
   "mimetype": "text/x-python",
   "name": "python",
   "nbconvert_exporter": "python",
   "pygments_lexer": "ipython3",
   "version": "3.10.4"
  },
  "orig_nbformat": 4,
  "vscode": {
   "interpreter": {
    "hash": "4f946df053fbf2b937619d3c5458e7af74262f9a954d8797ba0b27400bcafe06"
   }
  }
 },
 "nbformat": 4,
 "nbformat_minor": 2
}
