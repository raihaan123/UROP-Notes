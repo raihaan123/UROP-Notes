{
 "cells": [
  {
   "cell_type": "markdown",
   "metadata": {},
   "source": [
    "# Solving the Van der Pol oscillator with the DeepXDE Framework\n",
    "Raihaan Usman, UROP Student"
   ]
  },
  {
   "cell_type": "markdown",
   "metadata": {},
   "source": [
    "DeepXDE is a data-driven framework developed by researchers at Brown University."
   ]
  },
  {
   "cell_type": "code",
   "execution_count": 1,
   "metadata": {},
   "outputs": [
    {
     "name": "stderr",
     "output_type": "stream",
     "text": [
      "Using backend: tensorflow.compat.v1\n",
      "\n",
      "2022-08-21 18:23:35.944589: W tensorflow/stream_executor/platform/default/dso_loader.cc:64] Could not load dynamic library 'libcudart.so.11.0'; dlerror: libcudart.so.11.0: cannot open shared object file: No such file or directory\n",
      "2022-08-21 18:23:35.944624: I tensorflow/stream_executor/cuda/cudart_stub.cc:29] Ignore above cudart dlerror if you do not have a GPU set up on your machine.\n"
     ]
    },
    {
     "name": "stdout",
     "output_type": "stream",
     "text": [
      "WARNING:tensorflow:From /opt/python/3.10.4/lib/python3.10/site-packages/tensorflow/python/compat/v2_compat.py:107: disable_resource_variables (from tensorflow.python.ops.variable_scope) is deprecated and will be removed in a future version.\n",
      "Instructions for updating:\n",
      "non-resource variables are not supported in the long term\n"
     ]
    },
    {
     "name": "stderr",
     "output_type": "stream",
     "text": [
      "2022-08-21 18:23:52.204913: W tensorflow/stream_executor/platform/default/dso_loader.cc:64] Could not load dynamic library 'libcuda.so.1'; dlerror: libcuda.so.1: cannot open shared object file: No such file or directory\n",
      "2022-08-21 18:23:52.231069: W tensorflow/stream_executor/cuda/cuda_driver.cc:269] failed call to cuInit: UNKNOWN ERROR (303)\n",
      "2022-08-21 18:23:52.231128: I tensorflow/stream_executor/cuda/cuda_diagnostics.cc:156] kernel driver does not appear to be running on this host (codespaces-baf76a): /proc/driver/nvidia/version does not exist\n"
     ]
    },
    {
     "name": "stdout",
     "output_type": "stream",
     "text": [
      "WARNING:tensorflow:From /opt/python/3.10.4/lib/python3.10/site-packages/deepxde/nn/initializers.py:118: The name tf.keras.initializers.he_normal is deprecated. Please use tf.compat.v1.keras.initializers.he_normal instead.\n",
      "\n"
     ]
    }
   ],
   "source": [
    "# surpress warnings from imports\n",
    "import warnings\n",
    "# warnings.filterwarnings(\"ignore\")\n",
    "\n",
    "import deepxde as dde\n",
    "from deepxde.backend import tf\n",
    "import numpy as np\n",
    "import matplotlib.pyplot as plt\n",
    "from scipy.integrate import odeint\n",
    "import wandb"
   ]
  },
  {
   "cell_type": "code",
   "execution_count": 2,
   "metadata": {},
   "outputs": [
    {
     "name": "stderr",
     "output_type": "stream",
     "text": [
      "Failed to detect the name of this notebook, you can set it manually with the WANDB_NOTEBOOK_NAME environment variable to enable code saving.\n"
     ]
    },
    {
     "name": "stdout",
     "output_type": "stream",
     "text": [
      "Create sweep with ID: h5zmp3h3\n",
      "Sweep URL: https://wandb.ai/raihaan123/PINNs/sweeps/h5zmp3h3\n"
     ]
    }
   ],
   "source": [
    "sweep_config = {\n",
    "  \"name\" : \"optimisation-sweep\",\n",
    "  \n",
    "  # Bayesian optimization of the parameters\n",
    "  \"method\": \"bayes\",\n",
    "  \"metric\": {\"name\": \"val_loss\", \"goal\": \"minimize\"},\n",
    "  \n",
    "  # \"method\" : \"random\",\n",
    "  \n",
    "  \"parameters\" : {\n",
    "    \n",
    "    \"depth\"       : {\"values\" : range(1, 11)},\n",
    "    \"height\"      : {\"values\" : range(5, 55, 5)},\n",
    "    \"num_domain\"  : {\"values\" : range(1000, 5000, 1000)}\n",
    "    # \"weight1\" : {\"min\" : 0, \"max\" : 3},\n",
    "    # \"weight2\" : {\"min\" : 0, \"max\" : 3},\n",
    "    # \"weight3\" : {\"min\" : 0, \"max\" : 3}\n",
    "    \n",
    "  }\n",
    "}\n",
    "\n",
    "# \"learning_rate\" :{\n",
    "#   \"min\": 0.0001,\n",
    "#   \"max\": 0.1\n",
    "# }\n",
    "\n",
    "sweep_id = wandb.sweep(sweep_config, project=\"PINNs\", entity=\"raihaan123\")"
   ]
  },
  {
   "cell_type": "markdown",
   "metadata": {},
   "source": [
    "### Van der Pol Solver"
   ]
  },
  {
   "cell_type": "code",
   "execution_count": null,
   "metadata": {},
   "outputs": [],
   "source": [
    "# PDE parameters\n",
    "mu = 0.5\n",
    "X0 = [1, 0]\n",
    "t_f = 20\n",
    "\n",
    "# Hyperparameters for the ADAM optimiser\n",
    "# alpha           = 0.005\n",
    "# loss_weights    = [3, 0.1, 0.1]    # [X, x1(0), x2(0)] errors\n",
    "\n",
    "# VdP oscillator\n",
    "ODE         = lambda X, t:  np.array([X[1], mu*(1-X[0]**2)*X[1]-X[0]])\n",
    "true_sol    = lambda t:     odeint(ODE, X0, t)\n",
    "\n",
    "# The PDE problem\n",
    "def VdP(t, y):\n",
    "    dy_dt = dde.grad.jacobian(y, t)\n",
    "    d2y_dt2 = dde.grad.hessian(y, t)\n",
    "    return  d2y_dt2 - mu * (1 - y ** 2) * dy_dt + y\n",
    "\n",
    "# Time domain definition\n",
    "geom = dde.geometry.TimeDomain(0, t_f)\n",
    "\n",
    "# Boundary domain function - for time domain\n",
    "def boundary_l(t, on_initial):\n",
    "    return on_initial and np.isclose(t[0], 0)\n",
    "\n",
    "# x1(0) = 0.5\n",
    "bc_func1 = lambda inputs, outputs, X: outputs - X0[0]\n",
    "\n",
    "# x2(0) = 0\n",
    "bc_func2 = lambda inputs, outputs, X: dde.grad.jacobian(outputs, inputs, i=0, j=None) - X0[1]\n",
    "\n",
    "# Defining as ICs\n",
    "ic1 = dde.icbc.OperatorBC(geom, bc_func1, boundary_l)\n",
    "ic2 = dde.icbc.OperatorBC(geom, bc_func2, boundary_l)\n",
    "\n",
    "def train():\n",
    "    with wandb.init() as run:\n",
    "        config = wandb.config\n",
    "\n",
    "        # Define the PDE problem\n",
    "        data = dde.data.TimePDE(geom, VdP, [ic1, ic2], config[\"num_domain\"], 2, num_test=50000)\n",
    "\n",
    "        # Solver architecture\n",
    "        layer_size = [1] + [config[\"height\"]] * config[\"depth\"] + [1]\n",
    "        # layer_size = [1] + [10]*2 + [2]*2 + [10]*2 + [1]          # Fun experiment! Does there exist a linear coordinate frame for the ODE?\n",
    "        activation = \"tanh\"\n",
    "        initializer = \"Glorot uniform\"\n",
    "        net = dde.nn.FNN(layer_size, activation, initializer)\n",
    "\n",
    "        def input_transform(t):\n",
    "            return tf.concat(\n",
    "                (\n",
    "                    t,\n",
    "                    # t%1,\n",
    "                    # tf.log_sigmoid(t),\n",
    "                    tf.cos(t),\n",
    "                    tf.sin(t)\n",
    "                    # tf.sin(2 * t),\n",
    "                    # tf.sin(3 * t),\n",
    "                    # tf.sin(4 * t)\n",
    "                ),\n",
    "                axis=1,\n",
    "            )\n",
    "\n",
    "        net.apply_feature_transform(input_transform)\n",
    "\n",
    "\n",
    "        # Create a Model using the PDE and neural network definitions\n",
    "        model = dde.Model(data, net)\n",
    "\n",
    "        # Compile the model!\n",
    "        model.compile(\"L-BFGS\")\n",
    "        loss_history, train_state = model.train()\n",
    "        \n",
    "        loss_test = train_state.best_loss_test\n",
    "        print(loss_test)\n",
    "        \n",
    "        wandb.log({\"val_loss\": loss_test})\n",
    "\n",
    "# model.compile(\n",
    "#     \"adam\", lr=alpha, loss_weights=loss_weights     # Removed metrics=[\"l2 relative error\"]\n",
    "# )\n",
    "\n",
    "# losshistory, train_state = model.train(iterations=20000)\n",
    "# dde.saveplot(losshistory, train_state, issave=True, isplot=True)\n",
    "\n",
    "count = 100 # number of runs to execute\n",
    "wandb.agent(sweep_id, function=train, count=count)"
   ]
  },
  {
   "cell_type": "code",
   "execution_count": null,
   "metadata": {},
   "outputs": [],
   "source": [
    "# t = np.linspace(0, t_f+100, 5000)\n",
    "# sol = true_sol(t)\n",
    "# x1, x2 = np.hsplit(true_sol(t), 2)\n",
    "\n",
    "# # Plot the solution\n",
    "# plt.figure(figsize=(30, 5))\n",
    "# plt.plot(t, x1, color=\"black\", label=\"x1_true\")\n",
    "\n",
    "# t = t.reshape(5000, 1)\n",
    "# x1_pred = model.predict(t)\n",
    "\n",
    "# plt.plot(t, x1_pred, color=\"red\", linestyle=\"dashed\", label=\"x1_pred\")\n",
    "# plt.legend()\n",
    "# plt.show()"
   ]
  }
 ],
 "metadata": {
  "kernelspec": {
   "display_name": "Python 3.10.4 64-bit",
   "language": "python",
   "name": "python3"
  },
  "language_info": {
   "codemirror_mode": {
    "name": "ipython",
    "version": 3
   },
   "file_extension": ".py",
   "mimetype": "text/x-python",
   "name": "python",
   "nbconvert_exporter": "python",
   "pygments_lexer": "ipython3",
   "version": "3.10.4"
  },
  "orig_nbformat": 4,
  "vscode": {
   "interpreter": {
    "hash": "4f946df053fbf2b937619d3c5458e7af74262f9a954d8797ba0b27400bcafe06"
   }
  }
 },
 "nbformat": 4,
 "nbformat_minor": 2
}
